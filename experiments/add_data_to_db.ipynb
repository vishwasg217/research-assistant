{
 "cells": [
  {
   "cell_type": "code",
   "execution_count": 10,
   "metadata": {},
   "outputs": [],
   "source": [
    "import weaviate\n",
    "import os\n",
    "from dotenv import load_dotenv\n",
    "\n",
    "load_dotenv(\"../.env\")\n",
    "\n",
    "openai_key = os.getenv(\"OPENAI_API_KEY\")\n",
    "headers = {\n",
    "    \"X-OpenAI-Api-Key\": openai_key,\n",
    "}\n",
    "\n",
    "client = weaviate.connect_to_local(\n",
    "    headers=headers\n",
    ")"
   ]
  },
  {
   "cell_type": "code",
   "execution_count": 11,
   "metadata": {},
   "outputs": [],
   "source": [
    "# from weaviate.classes.config import Property, DataType, Configure\n",
    "\n",
    "# if client.collections.exists(\"Paper\"):\n",
    "#     client.collections.delete(\"Paper\")\n",
    "\n",
    "# client.collections.create(\n",
    "#     name=\"Paper\",\n",
    "#     properties=[\n",
    "#         Property(name=\"title\", data_type=DataType.TEXT),\n",
    "#         Property(name=\"paper_id\", data_type=DataType.TEXT),\n",
    "#         Property(name=\"create_date\", data_type=DataType.DATE),\n",
    "#         Property(name=\"abstract\", data_type=DataType.TEXT),\n",
    "#         Property(name=\"update_date\", data_type=DataType.DATE),\n",
    "#         Property(name=\"categories\", data_type=DataType.TEXT_ARRAY),\n",
    "#         Property(name=\"authors\", data_type=DataType.TEXT_ARRAY),\n",
    "#         Property(name=\"journal_ref\", data_type=DataType.TEXT),\n",
    "#         Property(name=\"doi\", data_type=DataType.TEXT),\n",
    "#         Property(name=\"report_no\", data_type=DataType.TEXT),\n",
    "#         Property(name=\"license\", data_type=DataType.TEXT),\n",
    "#         Property(name=\"comments\", data_type=DataType.TEXT),\n",
    "#     ],\n",
    "#     vectorizer_config=Configure.Vectorizer.text2vec_openai(\n",
    "#         model=\"text-embedding-3-small\"\n",
    "#     )\n",
    "# )\n"
   ]
  },
  {
   "cell_type": "code",
   "execution_count": 12,
   "metadata": {},
   "outputs": [
    {
     "name": "stderr",
     "output_type": "stream",
     "text": [
      "/Library/Frameworks/Python.framework/Versions/3.11/lib/python3.11/asyncio/selector_events.py:843: ResourceWarning: unclosed transport <_SelectorSocketTransport fd=82 read=idle write=<idle, bufsize=0>>\n",
      "  _warn(f\"unclosed transport {self!r}\", ResourceWarning, source=self)\n",
      "ResourceWarning: Enable tracemalloc to get the object allocation traceback\n"
     ]
    },
    {
     "name": "stdout",
     "output_type": "stream",
     "text": [
      "Loaded 243352 papers\n"
     ]
    },
    {
     "name": "stderr",
     "output_type": "stream",
     "text": [
      "/Users/vishwasgowda/code/research-assistant/.venv/lib/python3.11/site-packages/weaviate/warnings.py:305: ResourceWarning: Con004: The connection to Weaviate was not closed properly. This can lead to memory leaks.\n",
      "            Please make sure to close the connection using `client.close()`.\n",
      "  warnings.warn(\n"
     ]
    }
   ],
   "source": [
    "import json\n",
    "from tqdm import tqdm\n",
    "\n",
    "with open(\"../data/aiml_papers_processed.json\") as f:\n",
    "    papers = json.load(f)\n",
    "\n",
    "print(f\"Loaded {len(papers)} papers\")\n",
    "\n",
    "paper = client.collections.get(\"Paper\")"
   ]
  },
  {
   "cell_type": "code",
   "execution_count": 13,
   "metadata": {},
   "outputs": [
    {
     "name": "stdout",
     "output_type": "stream",
     "text": [
      "Inserting 85173 papers\n"
     ]
    },
    {
     "name": "stderr",
     "output_type": "stream",
     "text": [
      " 13%|█▎        | 11328/85173 [02:42<15:19, 80.30it/s]/Library/Frameworks/Python.framework/Versions/3.11/lib/python3.11/asyncio/selector_events.py:843: ResourceWarning: unclosed transport <_SelectorSocketTransport fd=87 read=idle write=<idle, bufsize=0>>\n",
      "  _warn(f\"unclosed transport {self!r}\", ResourceWarning, source=self)\n",
      "ResourceWarning: Enable tracemalloc to get the object allocation traceback\n",
      "100%|██████████| 85173/85173 [31:13<00:00, 45.45it/s]  \n"
     ]
    }
   ],
   "source": [
    "total_papers = len(papers)\n",
    "first_35_percent = int(total_papers * 0.35)\n",
    "papers_to_insert = papers[:first_35_percent]\n",
    "print(f\"Inserting {len(papers_to_insert)} papers\")\n",
    "\n",
    "with paper.batch.dynamic() as batch:\n",
    "    for obj in tqdm(papers_to_insert):\n",
    "        batch.add_object(obj)"
   ]
  },
  {
   "cell_type": "code",
   "execution_count": 15,
   "metadata": {},
   "outputs": [
    {
     "name": "stdout",
     "output_type": "stream",
     "text": [
      "Inserting 85173 papers\n"
     ]
    },
    {
     "name": "stderr",
     "output_type": "stream",
     "text": [
      "100%|██████████| 85173/85173 [34:12<00:00, 41.49it/s]  \n"
     ]
    }
   ],
   "source": [
    "total_papers = len(papers)\n",
    "first_35_percent = int(total_papers * 0.35)\n",
    "second_35_percent = int(total_papers * 0.7)\n",
    "papers_to_insert = papers[first_35_percent:second_35_percent]\n",
    "print(f\"Inserting {len(papers_to_insert)} papers\")\n",
    "\n",
    "with paper.batch.dynamic() as batch:\n",
    "    for obj in tqdm(papers_to_insert):\n",
    "        batch.add_object(obj)"
   ]
  },
  {
   "cell_type": "code",
   "execution_count": 16,
   "metadata": {},
   "outputs": [
    {
     "name": "stdout",
     "output_type": "stream",
     "text": [
      "Inserting 73006 papers\n"
     ]
    },
    {
     "name": "stderr",
     "output_type": "stream",
     "text": [
      "100%|██████████| 73006/73006 [29:59<00:00, 40.58it/s]  \n"
     ]
    }
   ],
   "source": [
    "total_papers = len(papers)\n",
    "first_35_percent = int(total_papers * 0.35)\n",
    "second_35_percent = int(total_papers * 0.7)\n",
    "papers_to_insert = papers[second_35_percent:]\n",
    "print(f\"Inserting {len(papers_to_insert)} papers\")\n",
    "\n",
    "with paper.batch.dynamic() as batch:\n",
    "    for obj in tqdm(papers_to_insert):\n",
    "        batch.add_object(obj)"
   ]
  },
  {
   "cell_type": "code",
   "execution_count": 17,
   "metadata": {},
   "outputs": [
    {
     "name": "stdout",
     "output_type": "stream",
     "text": [
      "ID: 99809679363136159136294570168727535497\n",
      "Distance: 0.5314494371414185, Certainty: 0.7342752814292908\n",
      "Title: Advancing the Research and Development of Assured Artificial\n",
      "  Intelligence and Machine Learning Capabilities\n",
      "Date: 2020-09-24 20:12:14+00:00\n",
      "Category: ['Machine Learning', 'Cryptography and Security', 'Computers and Society', 'Software Engineering']\n",
      "abstract: Artificial intelligence (AI) and machine learning (ML) have become increasingly vital in the [...]\n",
      "\n",
      "ID: 293577723185668284219179507023352147532\n",
      "Distance: 0.534274697303772, Certainty: 0.732862651348114\n",
      "Title: MLJ: A Julia package for composable machine learning\n",
      "Date: 2020-07-23 22:46:33+00:00\n",
      "Category: ['Machine Learning', 'Machine Learning (Statistics)']\n",
      "abstract: MLJ (Machine Learing in Julia) is an open source software package providing a common interface [...]\n",
      "\n",
      "ID: 105240753530877317663087347556395662047\n",
      "Distance: 0.5371927618980408, Certainty: 0.7314035892486572\n",
      "Title: Guidance on the Assurance of Machine Learning in Autonomous Systems\n",
      "  (AMLAS)\n",
      "Date: 2021-02-02 15:41:57+00:00\n",
      "Category: ['Machine Learning', 'Artificial Intelligence']\n",
      "abstract: Machine Learning (ML) is now used in a range of systems with results that are reported to [...]\n",
      "\n",
      "ID: 61134559686621557712616743250853970442\n",
      "Distance: 0.5401576161384583, Certainty: 0.7299212217330933\n",
      "Title: MLPACK: A Scalable C++ Machine Learning Library\n",
      "Date: 2012-10-23 17:15:03+00:00\n",
      "Category: ['Multiagent Systems', 'Computer Vision and Pattern Recognition', 'Machine Learning']\n",
      "abstract: MLPACK is a state-of-the-art, scalable, multi-platform C++ machine learning library released [...]\n",
      "\n",
      "ID: 44758718072660107422592701334542129425\n",
      "Distance: 0.5422461032867432, Certainty: 0.7288769483566284\n",
      "Title: A Multiagent Framework for the Asynchronous and Collaborative Extension\n",
      "  of Multitask ML Systems\n",
      "Date: 2022-09-29 13:02:58+00:00\n",
      "Category: ['Machine Learning', 'Artificial Intelligence', 'Computer Vision and Pattern Recognition', 'Mathematics of Computing', 'Neural and Evolutionary Computing']\n",
      "abstract: The traditional ML development methodology does not enable a large number of contributors, [...]\n",
      "\n"
     ]
    }
   ],
   "source": [
    "from weaviate.classes.query import MetadataQuery\n",
    "import textwrap\n",
    "\n",
    "paper = client.collections.get(\"Paper\")\n",
    "\n",
    "\n",
    "response = paper.query.near_text(\n",
    "    query=\"ai and ml\",\n",
    "    return_metadata=MetadataQuery(distance=True, certainty=True), # return distance and certainty metrics\n",
    "    include_vector=True, # include the vector of the query\n",
    "    limit=5\n",
    ")\n",
    "\n",
    "def print_objects(objects):\n",
    "    \"\"\"\n",
    "        a function to print the retrieved objects\n",
    "    \"\"\"\n",
    "    for obj in objects:\n",
    "        print(f\"ID: {obj.uuid.int}\")\n",
    "        print(f\"Distance: {obj.metadata.distance}, Certainty: {obj.metadata.certainty}\")\n",
    "        print(f\"Title: {obj.properties['title']}\")\n",
    "        print(f\"Date: {obj.properties['create_date']}\")\n",
    "        print(f\"Category: {obj.properties['categories']}\")\n",
    "        print(f\"abstract: {textwrap.shorten(obj.properties['abstract'], width=100)}\")\n",
    "        print()\n",
    "\n",
    "\n",
    "print_objects(response.objects)"
   ]
  }
 ],
 "metadata": {
  "kernelspec": {
   "display_name": ".venv",
   "language": "python",
   "name": "python3"
  },
  "language_info": {
   "codemirror_mode": {
    "name": "ipython",
    "version": 3
   },
   "file_extension": ".py",
   "mimetype": "text/x-python",
   "name": "python",
   "nbconvert_exporter": "python",
   "pygments_lexer": "ipython3",
   "version": "3.11.1"
  }
 },
 "nbformat": 4,
 "nbformat_minor": 2
}
